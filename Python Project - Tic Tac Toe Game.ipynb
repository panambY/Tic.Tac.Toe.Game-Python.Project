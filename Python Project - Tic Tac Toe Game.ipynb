{
 "cells": [
  {
   "cell_type": "markdown",
   "metadata": {
    "_cell_guid": "b1076dfc-b9ad-4769-8c92-a6c4dae69d19",
    "_uuid": "8f2839f25d086af736a60e9eeb907d3b93b6e0e5"
   },
   "source": [
    "# Milestone Project: Tic Tac Toe Game\n",
    "# Below is a set of steps for you to follow to try to create the Tic Tac Toe Milestone Project game! ⚽️🏆🏈"
   ]
  },
  {
   "cell_type": "code",
   "execution_count": 1,
   "metadata": {
    "_cell_guid": "79c7e3d0-c299-4dcb-8224-4455121ee9b0",
    "_uuid": "d629ff2d2480ee46fbb7e2d37f6b5fab8052498a"
   },
   "outputs": [],
   "source": [
    "# Step 1: Write a function that can print out a board. \n",
    "# Set up your board as a list, where each index 1-9 corresponds with a number on a number pad, \n",
    "# so you get a 3 by 3 board representation.\n",
    "\n",
    "from IPython.display import clear_output\n",
    "\n",
    "board = [' ',' ',' ',' ',' ',' ',' ',' ',' ',' ']\n",
    "def display_board(board):\n",
    "    '''\n",
    "    This function draw the game display.\n",
    "    \n",
    "    '''\n",
    "    print('         #','# ','       #','#\\n',\n",
    "    '        #','#','        #','#\\n',\n",
    "    '   '+board[7],'   #','#   ',board[8]+' ','  #','#   ', board[9]+'\\n',\n",
    "    '        #','#','        #','#\\n',\n",
    "    '        #','#','        #','#\\n',\n",
    "    '_______________________________\\n',\n",
    "    '_______________________________\\n',\n",
    "    '        #','#','        #','#\\n',\n",
    "    '        #','#','        #','#\\n',\n",
    "    '   '+board[4],'   #','#   ',board[5]+' ','  #','#   ', board[6]+'\\n',\n",
    "    '        #','#','        #','#\\n',\n",
    "    '        #','#','        #','#\\n',\n",
    "    '_______________________________\\n',\n",
    "    '_______________________________\\n',\n",
    "    '        #','#','        #','#\\n',\n",
    "    '        #','#','        #','#\\n',\n",
    "    '   '+board[1],'   #','#   ',board[2]+' ','  #','#   ', board[3]+'\\n',\n",
    "    '        #','#','        #','#\\n',\n",
    "    '        #','#','        #','#\\n')\n",
    "    \n",
    "    \n",
    "# I imported the \"clear_output\"class to clean the screen, but this class works only in Jupyter Notebook."
   ]
  },
  {
   "cell_type": "code",
   "execution_count": 2,
   "metadata": {
    "_uuid": "99bef4d83dc4ba40395a63979586ba4141f935a9"
   },
   "outputs": [
    {
     "name": "stdout",
     "output_type": "stream",
     "text": [
      "         # #         # #\n",
      "         # #         # #\n",
      "         # #         # #     \n",
      "         # #         # #\n",
      "         # #         # #\n",
      " _______________________________\n",
      " _______________________________\n",
      "         # #         # #\n",
      "         # #         # #\n",
      "         # #         # #     \n",
      "         # #         # #\n",
      "         # #         # #\n",
      " _______________________________\n",
      " _______________________________\n",
      "         # #         # #\n",
      "         # #         # #\n",
      "         # #         # #     \n",
      "         # #         # #\n",
      "         # #         # #\n",
      "\n"
     ]
    }
   ],
   "source": [
    "# Let's check how this function works.\n",
    "\n",
    "display_board(board)"
   ]
  },
  {
   "cell_type": "code",
   "execution_count": 3,
   "metadata": {
    "_uuid": "d25e159131faf837feb69c113b564dd4664a7561"
   },
   "outputs": [],
   "source": [
    "# Step 2: Write a function that can take in a player input and assign their marker as 'X' or 'O'. \n",
    "# I will try using while loops to continually ask until you get a correct answer.\n",
    "\n",
    "def player_input():\n",
    "    '''\n",
    "    The first part of this function is to explain how this game works.\n",
    "    The first while loop is to get the \"X\" or \"O\" choice.\n",
    "    The second while loop is to get the \"Yes\" or \"No\" answer.\n",
    "    '''\n",
    "    global marker\n",
    "    print('Welcome to Tic Tac Toe!')\n",
    "    print('The numbers corresponding to spaces:\\n',\n",
    "           '   **   **            **   **   \\n',\n",
    "           ' 7 ** 8 ** 9          **   **   \\n',\n",
    "           '   **   **            **   **   \\n',\n",
    "           ' ------------      ------------ \\n',\n",
    "           ' ------------      ------------ \\n',\n",
    "           '   **   **            **   **   \\n',\n",
    "           ' 4 ** 5 ** 6          **   **   \\n',\n",
    "           '   **   **            **   **   \\n',\n",
    "           ' ------------      ------------ \\n',\n",
    "           ' ------------      ------------ \\n',\n",
    "           '   **   **            **   **   \\n',\n",
    "           ' 1 ** 2 ** 3          **   **   \\n',\n",
    "           '   **   **            **   **   \\n')\n",
    "    marker = input('Player 1: Do you want to be X or O? ').upper()\n",
    "    while (marker != 'X') and (marker != 'O'):\n",
    "        clear_output()\n",
    "        print('Do you have to choose X or O!')\n",
    "        marker = input('Player 1: Do you want to be X or O? ').upper()\n",
    "    choose_first()\n",
    "    ready = input(print('Are you ready to play? Enter Yes or No. ')).lower()\n",
    "    while (ready != 'yes') and (ready != 'no'):\n",
    "        clear_output()\n",
    "        print('Do you have to choose Yes or No!')\n",
    "        ready = input(print('Are you ready to play? Enter Yes or No. ')).lower()\n",
    "    else:\n",
    "        if ready == 'yes':\n",
    "            clear_output()\n",
    "            display_board(board)\n",
    "            return True\n",
    "        elif ready == 'no':\n",
    "            clear_output()\n",
    "            print('Maybe next time!')\n",
    "            return False"
   ]
  },
  {
   "cell_type": "code",
   "execution_count": 4,
   "metadata": {
    "_uuid": "4a30aac644611c0bae96dfb81f67f81d001f9ada"
   },
   "outputs": [
    {
     "name": "stdout",
     "output_type": "stream",
     "text": [
      "         # #         # #\n",
      "         # #         # #\n",
      "         # #    $    # #     \n",
      "         # #         # #\n",
      "         # #         # #\n",
      " _______________________________\n",
      " _______________________________\n",
      "         # #         # #\n",
      "         # #         # #\n",
      "         # #         # #     \n",
      "         # #         # #\n",
      "         # #         # #\n",
      " _______________________________\n",
      " _______________________________\n",
      "         # #         # #\n",
      "         # #         # #\n",
      "         # #         # #     \n",
      "         # #         # #\n",
      "         # #         # #\n",
      "\n"
     ]
    }
   ],
   "source": [
    "# Step 3: Write a function that takes in the board list object, a marker ('X' or 'O'), \n",
    "# and a desired position (number 1-9) and assigns it to the board.\n",
    "\n",
    "def place_marker(board, marker, position):\n",
    "    '''\n",
    "    marker - \"X\" or \"O\" previously selected by the players.\n",
    "    position - Selected by the player as weel.\n",
    "    \n",
    "    This function get the marker and put it to desired position.\n",
    "    '''\n",
    "    board[position] = marker\n",
    "    \n",
    "# Let's put some random values and see if this function will work.\n",
    "place_marker(board,'$',8)\n",
    "display_board(board)\n",
    "\n",
    "# Good!"
   ]
  },
  {
   "cell_type": "code",
   "execution_count": 5,
   "metadata": {
    "_uuid": "11d955aa3e67e4870282997f0980093432ccee37"
   },
   "outputs": [],
   "source": [
    "# Step 4: Write a function that takes in a board and a mark (X or O) and then checks to see if that mark has won.\n",
    "\n",
    "def win_check(board, marker):\n",
    "    '''\n",
    "    This function check all the victorious combinations and return True or False.\n",
    "    '''\n",
    "    if (board[1]==board[2]==board[3]!=' ' or \n",
    "        board[4]==board[5]==board[6]!=' ' or board[7]==board[8]==board[9]!=' ' or \n",
    "        board[1]==board[4]==board[7]!=' ' or board[2]==board[5]==board[8]!=' ' or \n",
    "        board[3]==board[6]==board[9]!=' ' or board[3]==board[5]==board[7]!=' ' or\n",
    "        board[1]==board[5]==board[9]!=' '):\n",
    "        return True\n",
    "        pass\n",
    "    else:\n",
    "        return False"
   ]
  },
  {
   "cell_type": "code",
   "execution_count": 6,
   "metadata": {
    "_uuid": "7c56ada0bb530fe6c364aa1c1f4c25109b3b904a"
   },
   "outputs": [
    {
     "data": {
      "text/plain": [
       "True"
      ]
     },
     "execution_count": 6,
     "metadata": {},
     "output_type": "execute_result"
    }
   ],
   "source": [
    "# Let's test this function.\n",
    "\n",
    "# First I will insert some combination.\n",
    "\n",
    "place_marker(board,'$',7)\n",
    "place_marker(board,'$',9)\n",
    "\n",
    "# Now I will check the function to return \"True\".\n",
    "win_check(board, '$')\n"
   ]
  },
  {
   "cell_type": "code",
   "execution_count": 7,
   "metadata": {
    "_uuid": "365bcd2d81c7dd6bc5dd5cfac7f06ebeb90b8c61"
   },
   "outputs": [
    {
     "data": {
      "text/plain": [
       "False"
      ]
     },
     "execution_count": 7,
     "metadata": {},
     "output_type": "execute_result"
    }
   ],
   "source": [
    "# Now I will check the function to return \"False\".\n",
    "place_marker(board,' ',9)\n",
    "win_check(board, '$')\n",
    "\n",
    "# Great!"
   ]
  },
  {
   "cell_type": "code",
   "execution_count": 8,
   "metadata": {
    "_uuid": "bc344b29efbaaf5455c18c2ae611975cf086706f"
   },
   "outputs": [],
   "source": [
    "# Step 5: Write a function that uses the random module to randomly decide which player goes first. \n",
    "# I may want to lookup random.randint() Return a string of which player went first.\n",
    "\n",
    "import random\n",
    "\n",
    "def choose_first():\n",
    "    players = ['Player 1', 'Player 2']\n",
    "    first = players[random.randint(0,1)]\n",
    "    print(f'{first} will go first!')"
   ]
  },
  {
   "cell_type": "code",
   "execution_count": 9,
   "metadata": {
    "_uuid": "14576f19ad76847c19299738d5ae84e44c934cba"
   },
   "outputs": [
    {
     "data": {
      "text/plain": [
       "True"
      ]
     },
     "execution_count": 9,
     "metadata": {},
     "output_type": "execute_result"
    }
   ],
   "source": [
    "# Step 6: Write a function that returns a boolean indicating whether a space on the board is freely available.\n",
    "\n",
    "def space_check(board, position):\n",
    "        if board[position] == ' ':\n",
    "            return True\n",
    "        else:\n",
    "            return False\n",
    "        \n",
    "# Let's check to return \"True\".\n",
    "space_check(board, 1)"
   ]
  },
  {
   "cell_type": "code",
   "execution_count": 10,
   "metadata": {
    "_uuid": "ce3bbceeadc878da0dc268ca5abc5dbceb708330"
   },
   "outputs": [
    {
     "data": {
      "text/plain": [
       "False"
      ]
     },
     "execution_count": 10,
     "metadata": {},
     "output_type": "execute_result"
    }
   ],
   "source": [
    "# Let's check to return \"False\".\n",
    "space_check(board, 8)\n",
    "\n",
    "# Done!"
   ]
  },
  {
   "cell_type": "code",
   "execution_count": 11,
   "metadata": {
    "_uuid": "bb569a787105abf0e76381b4223b01f22646d9ee"
   },
   "outputs": [
    {
     "data": {
      "text/plain": [
       "False"
      ]
     },
     "execution_count": 11,
     "metadata": {},
     "output_type": "execute_result"
    }
   ],
   "source": [
    "# Step 7: Write a function that checks if the board is full and returns a boolean value. \n",
    "# True if full, False otherwise.\n",
    "\n",
    "def full_board_check(board):\n",
    "    full = True\n",
    "    for i in board:\n",
    "        if i == ' ':\n",
    "            full = False\n",
    "            pass\n",
    "    return full\n",
    "    \n",
    "# Let's see weathet it's work.\n",
    "\n",
    "full_board_check(board)\n",
    "\n",
    "# Good!!"
   ]
  },
  {
   "cell_type": "code",
   "execution_count": 12,
   "metadata": {
    "_uuid": "74486e683969ee1ef93050d026480824005d9494"
   },
   "outputs": [],
   "source": [
    "# Step 8: Write a function that asks for a player's next position (as a number 1-9) \n",
    "# and then uses the function from step 6 to check if it's a free position. \n",
    "# If it is, then return the position for later use.\n",
    "\n",
    "def player_choice(board):\n",
    "    '''\n",
    "    This function get the number which the player choose, check if the space is empty\n",
    "    and then, if is available, assign the marker in the space.\n",
    "    '''\n",
    "    global marker\n",
    "    position = int(input('Choose your next position: (1-9) '))\n",
    "    while not 1<=position<=9:\n",
    "        clear_output()\n",
    "        print('Choose a number between 1 and 9!')\n",
    "        position = int(input('Choose your next position: (1-9) '))\n",
    "        \n",
    "    else:\n",
    "        while space_check(board, position) != True:\n",
    "            clear_output()\n",
    "            print('This position is not available!')\n",
    "            display_board(board)\n",
    "            position = int(input('Choose your next position: (1-9) '))\n",
    "        else:\n",
    "            clear_output()\n",
    "            place_marker(board, marker, position)\n",
    "            display_board(board)\n",
    "            \n",
    "# I used \"global marker\" because the changes in this variable within this function will be relevant to another functions."
   ]
  },
  {
   "cell_type": "code",
   "execution_count": 13,
   "metadata": {
    "_uuid": "38951a8b106dfad1a4feb5ac3fdeee790aa7b19d"
   },
   "outputs": [],
   "source": [
    "# Step 9: Write a function that asks the player if they want to play again and returns a boolean.\n",
    "# True if they do want to play again.\n",
    "\n",
    "def replay():\n",
    "    '''\n",
    "    This function ask if the player will want to \"replay\" the game: if the answer is \"Yes\",\n",
    "    this function return True and the game will replay. If the answer is \"No\", the function \"break\"the game.\n",
    "    '''\n",
    "    replay = input(print('Do you want to play again? Enter Yes or No. ')).lower()\n",
    "    while (replay != 'yes') and (replay != 'no'):\n",
    "        clear_output()\n",
    "        print('Do you have to choose Yes or No!')\n",
    "        replay = input(print('Do you want to play again? Enter Yes or No. ')).lower()\n",
    "    else:\n",
    "        if replay == 'yes':\n",
    "            clear_output()\n",
    "            board = ['#',' ',' ',' ',' ',' ',' ',' ',' ',' ']\n",
    "            return True\n",
    "        elif replay == 'no':\n",
    "            clear_output()\n",
    "            print('Maybe next time!')"
   ]
  },
  {
   "cell_type": "code",
   "execution_count": null,
   "metadata": {
    "_uuid": "232665cfe87876a34d9000aab9e6b0bb3c16764c"
   },
   "outputs": [
    {
     "name": "stdout",
     "output_type": "stream",
     "text": [
      "Welcome to Tic Tac Toe!\n",
      "The numbers corresponding to spaces:\n",
      "    **   **            **   **   \n",
      "  7 ** 8 ** 9          **   **   \n",
      "    **   **            **   **   \n",
      "  ------------      ------------ \n",
      "  ------------      ------------ \n",
      "    **   **            **   **   \n",
      "  4 ** 5 ** 6          **   **   \n",
      "    **   **            **   **   \n",
      "  ------------      ------------ \n",
      "  ------------      ------------ \n",
      "    **   **            **   **   \n",
      "  1 ** 2 ** 3          **   **   \n",
      "    **   **            **   **   \n",
      "\n"
     ]
    }
   ],
   "source": [
    "# Now! Let's run the game!!!!\n",
    "\n",
    "board = ['#',' ',' ',' ',' ',' ',' ',' ',' ',' ']\n",
    "while True:\n",
    "    global board\n",
    "    if not player_input():\n",
    "        break\n",
    "    \n",
    "    while full_board_check(board) == False:\n",
    "        player_choice(board)\n",
    "        if win_check(board, marker) == True:\n",
    "            print('Congratulation! You have won the game!')\n",
    "            board = ['#',' ',' ',' ',' ',' ',' ',' ',' ',' ']\n",
    "            break\n",
    "        else:\n",
    "            if marker == 'X':\n",
    "                marker = 'O'\n",
    "            else:\n",
    "                marker = 'X'\n",
    "    else:\n",
    "        print(\"This game hadn't a winner\")\n",
    "    if not replay():\n",
    "        break"
   ]
  },
  {
   "cell_type": "markdown",
   "metadata": {
    "_uuid": "d45fd61b79ba44d47c961029035b6d045f2923e4"
   },
   "source": [
    "# Unfortunately I can't show the game working, but I added a video that shows it in action!\n",
    "# Please, check!\n",
    "# See you in the next Project! 😎👍"
   ]
  },
  {
   "cell_type": "code",
   "execution_count": null,
   "metadata": {},
   "outputs": [],
   "source": []
  }
 ],
 "metadata": {
  "kernelspec": {
   "display_name": "Python 3",
   "language": "python",
   "name": "python3"
  },
  "language_info": {
   "codemirror_mode": {
    "name": "ipython",
    "version": 3
   },
   "file_extension": ".py",
   "mimetype": "text/x-python",
   "name": "python",
   "nbconvert_exporter": "python",
   "pygments_lexer": "ipython3",
   "version": "3.6.5"
  }
 },
 "nbformat": 4,
 "nbformat_minor": 1
}
